{
 "cells": [
  {
   "cell_type": "code",
   "execution_count": 1,
   "metadata": {},
   "outputs": [],
   "source": [
    "import pandas as pd"
   ]
  },
  {
   "cell_type": "code",
   "execution_count": 2,
   "metadata": {},
   "outputs": [],
   "source": [
    "url='https://sta.ci.taiwan.gov.tw/STA_AirQuality_v2/v1.0/Datastreams?$expand=Thing,Observations($orderby=phenomenonTime%20desc;$top=1)&$filter=name%20eq%20%27PM2.5%27%20and%20Thing/properties/authority%20eq%20%27%E8%A1%8C%E6%94%BF%E9%99%A2%E7%92%B0%E5%A2%83%E4%BF%9D%E8%AD%B7%E7%BD%B2%27%20and%20substringof(%27%E7%A9%BA%E6%B0%A3%E5%93%81%E8%B3%AA%E6%B8%AC%E7%AB%99%27,Thing/name)&$count=true'"
   ]
  },
  {
   "cell_type": "code",
   "execution_count": 3,
   "metadata": {},
   "outputs": [
    {
     "data": {
      "text/plain": [
       "0     {'description': '細懸浮微粒 PM2.5', '@iot.id': 11, ...\n",
       "1     {'description': '細懸浮微粒 PM2.5', '@iot.id': 29, ...\n",
       "2     {'description': '細懸浮微粒 PM2.5', '@iot.id': 47, ...\n",
       "3     {'description': '細懸浮微粒 PM2.5', '@iot.id': 65, ...\n",
       "4     {'description': '細懸浮微粒 PM2.5', '@iot.id': 83, ...\n",
       "                            ...                        \n",
       "72    {'description': '細懸浮微粒 PM2.5', '@iot.id': 1307...\n",
       "73    {'description': '細懸浮微粒 PM2.5', '@iot.id': 1325...\n",
       "74    {'description': '細懸浮微粒 PM2.5', '@iot.id': 1343...\n",
       "75    {'description': '細懸浮微粒 PM2.5', '@iot.id': 1361...\n",
       "76    {'description': '細懸浮微粒 PM2.5', '@iot.id': 1379...\n",
       "Name: value, Length: 77, dtype: object"
      ]
     },
     "execution_count": 3,
     "metadata": {},
     "output_type": "execute_result"
    }
   ],
   "source": [
    "datas=pd.read_json(url)['value']\n",
    "datas"
   ]
  },
  {
   "cell_type": "code",
   "execution_count": 4,
   "metadata": {},
   "outputs": [
    {
     "data": {
      "text/plain": [
       "77"
      ]
     },
     "execution_count": 4,
     "metadata": {},
     "output_type": "execute_result"
    }
   ],
   "source": [
    "len(datas)"
   ]
  },
  {
   "cell_type": "markdown",
   "metadata": {},
   "source": [
    "### 取得縣市跟站點名稱"
   ]
  },
  {
   "cell_type": "code",
   "execution_count": 5,
   "metadata": {},
   "outputs": [
    {
     "data": {
      "text/plain": [
       "('基隆市', '基隆')"
      ]
     },
     "execution_count": 5,
     "metadata": {},
     "output_type": "execute_result"
    }
   ],
   "source": [
    "city,stationName=datas[0]['Thing']['properties']['city'],datas[0]['Thing']['properties']['stationName']\n",
    "city,stationName"
   ]
  },
  {
   "cell_type": "markdown",
   "metadata": {},
   "source": [
    "### 取得PM2.5跟更新時間"
   ]
  },
  {
   "cell_type": "code",
   "execution_count": 6,
   "metadata": {},
   "outputs": [
    {
     "data": {
      "text/plain": [
       "(14, '2022-07-10T01:00:00.000Z')"
      ]
     },
     "execution_count": 6,
     "metadata": {},
     "output_type": "execute_result"
    }
   ],
   "source": [
    "result,resultTime=datas[0]['Observations'][0]['result'],datas[0]['Observations'][0]['resultTime']\n",
    "result,resultTime"
   ]
  },
  {
   "cell_type": "markdown",
   "metadata": {},
   "source": [
    "### 輸出所有站點資料"
   ]
  },
  {
   "cell_type": "code",
   "execution_count": 7,
   "metadata": {},
   "outputs": [
    {
     "name": "stdout",
     "output_type": "stream",
     "text": [
      "基隆市 基隆 14 2022-07-10 01:00:00+00:00\n",
      "新北市 汐止 12 2022-07-10 01:00:00+00:00\n",
      "新北市 萬里 11 2022-07-10 01:00:00+00:00\n",
      "新北市 新店 10 2022-07-10 01:00:00+00:00\n",
      "新北市 土城 7 2022-07-10 01:00:00+00:00\n",
      "新北市 板橋 11 2022-07-10 01:00:00+00:00\n",
      "新北市 新莊 9 2022-07-10 01:00:00+00:00\n",
      "新北市 菜寮 11 2022-07-10 01:00:00+00:00\n",
      "新北市 林口 12 2022-07-10 01:00:00+00:00\n",
      "新北市 淡水 10 2022-07-10 01:00:00+00:00\n",
      "臺北市 士林 17 2022-07-10 01:00:00+00:00\n",
      "臺北市 中山 10 2022-07-10 01:00:00+00:00\n",
      "臺北市 萬華 10 2022-07-10 01:00:00+00:00\n",
      "臺北市 古亭 11 2022-07-10 01:00:00+00:00\n",
      "臺北市 松山 11 2022-07-10 01:00:00+00:00\n",
      "臺北市 大同 15 2022-07-10 01:00:00+00:00\n",
      "桃園市 桃園 7 2022-07-10 01:00:00+00:00\n",
      "桃園市 大園 5 2022-07-10 01:00:00+00:00\n",
      "桃園市 觀音 3 2022-07-10 01:00:00+00:00\n",
      "桃園市 平鎮 6 2022-07-10 01:00:00+00:00\n",
      "桃園市 龍潭 6 2022-07-10 01:00:00+00:00\n",
      "新竹縣 湖口 5 2022-07-10 01:00:00+00:00\n",
      "新竹縣 竹東 6 2022-07-10 01:00:00+00:00\n",
      "新竹市 新竹 3 2022-07-10 01:00:00+00:00\n",
      "苗栗縣 頭份 2 2022-07-10 01:00:00+00:00\n",
      "苗栗縣 苗栗 4 2022-07-10 01:00:00+00:00\n",
      "苗栗縣 三義 6 2022-07-10 00:00:00+00:00\n",
      "臺中市 豐原 4 2022-07-10 01:00:00+00:00\n",
      "臺中市 沙鹿 3 2022-07-10 01:00:00+00:00\n",
      "臺中市 大里 4 2022-07-10 01:00:00+00:00\n",
      "臺中市 忠明 6 2022-07-10 01:00:00+00:00\n",
      "臺中市 西屯 2 2022-07-10 01:00:00+00:00\n",
      "彰化縣 彰化 0 2022-07-10 01:00:00+00:00\n",
      "彰化縣 線西 9 2022-07-10 01:00:00+00:00\n",
      "彰化縣 二林 1 2022-07-10 01:00:00+00:00\n",
      "南投縣 南投 10 2022-07-10 01:00:00+00:00\n",
      "雲林縣 斗六 9 2022-07-10 01:00:00+00:00\n",
      "雲林縣 崙背 4 2022-07-10 01:00:00+00:00\n",
      "嘉義縣 新港 10 2022-07-10 01:00:00+00:00\n",
      "嘉義縣 朴子 0 2022-07-10 01:00:00+00:00\n",
      "雲林縣 臺西 3 2022-07-10 01:00:00+00:00\n",
      "嘉義市 嘉義 7 2022-07-10 01:00:00+00:00\n",
      "臺南市 新營 11 2022-07-10 01:00:00+00:00\n",
      "臺南市 善化 7 2022-07-10 01:00:00+00:00\n",
      "臺南市 安南 6 2022-07-10 01:00:00+00:00\n",
      "臺南市 臺南 4 2022-07-10 01:00:00+00:00\n",
      "高雄市 美濃 8 2022-07-10 01:00:00+00:00\n",
      "高雄市 橋頭 7 2022-07-10 01:00:00+00:00\n",
      "高雄市 仁武 7 2022-07-10 01:00:00+00:00\n",
      "高雄市 鳳山 8 2022-07-10 01:00:00+00:00\n",
      "高雄市 大寮 7 2022-07-10 01:00:00+00:00\n",
      "高雄市 林園 5 2022-07-10 01:00:00+00:00\n",
      "高雄市 楠梓 3 2022-07-10 01:00:00+00:00\n",
      "高雄市 左營 10 2022-07-10 01:00:00+00:00\n",
      "高雄市 前金 8 2022-07-10 01:00:00+00:00\n",
      "高雄市 前鎮 11 2022-07-10 01:00:00+00:00\n",
      "高雄市 小港 8 2022-07-10 01:00:00+00:00\n",
      "屏東縣 屏東 6 2022-07-10 01:00:00+00:00\n",
      "屏東縣 潮州 4 2022-07-10 01:00:00+00:00\n",
      "屏東縣 恆春 0 2022-07-10 01:00:00+00:00\n",
      "臺東縣 臺東 5 2022-07-10 01:00:00+00:00\n",
      "花蓮縣 花蓮 5 2022-07-10 01:00:00+00:00\n",
      "臺北市 陽明 11 2022-07-10 01:00:00+00:00\n",
      "宜蘭縣 宜蘭 13 2022-07-10 01:00:00+00:00\n",
      "宜蘭縣 冬山 9 2022-07-10 01:00:00+00:00\n",
      "新北市 三重 15 2022-07-10 01:00:00+00:00\n",
      "桃園市 中壢 7 2022-07-10 01:00:00+00:00\n",
      "南投縣 竹山 4 2022-07-10 01:00:00+00:00\n",
      "新北市 永和 9 2022-07-10 01:00:00+00:00\n",
      "高雄市 復興 10 2022-07-10 01:00:00+00:00\n",
      "南投縣 埔里 2 2022-07-10 01:00:00+00:00\n",
      "新北市 富貴角 6 2022-07-10 01:00:00+00:00\n",
      "臺東縣 關山 0 2022-07-10 01:00:00+00:00\n",
      "金門縣 金門 9 2022-07-10 01:00:00+00:00\n",
      "連江縣 馬祖 8 2022-07-10 01:00:00+00:00\n",
      "澎湖縣 馬公 2 2022-07-10 01:00:00+00:00\n",
      "雲林縣 麥寮 0 2022-07-10 01:00:00+00:00\n"
     ]
    },
    {
     "data": {
      "text/plain": [
       "[['基隆市', '基隆', 14, Timestamp('2022-07-10 01:00:00+0000', tz='UTC')],\n",
       " ['新北市', '汐止', 12, Timestamp('2022-07-10 01:00:00+0000', tz='UTC')],\n",
       " ['新北市', '萬里', 11, Timestamp('2022-07-10 01:00:00+0000', tz='UTC')],\n",
       " ['新北市', '新店', 10, Timestamp('2022-07-10 01:00:00+0000', tz='UTC')],\n",
       " ['新北市', '土城', 7, Timestamp('2022-07-10 01:00:00+0000', tz='UTC')],\n",
       " ['新北市', '板橋', 11, Timestamp('2022-07-10 01:00:00+0000', tz='UTC')],\n",
       " ['新北市', '新莊', 9, Timestamp('2022-07-10 01:00:00+0000', tz='UTC')],\n",
       " ['新北市', '菜寮', 11, Timestamp('2022-07-10 01:00:00+0000', tz='UTC')],\n",
       " ['新北市', '林口', 12, Timestamp('2022-07-10 01:00:00+0000', tz='UTC')],\n",
       " ['新北市', '淡水', 10, Timestamp('2022-07-10 01:00:00+0000', tz='UTC')],\n",
       " ['臺北市', '士林', 17, Timestamp('2022-07-10 01:00:00+0000', tz='UTC')],\n",
       " ['臺北市', '中山', 10, Timestamp('2022-07-10 01:00:00+0000', tz='UTC')],\n",
       " ['臺北市', '萬華', 10, Timestamp('2022-07-10 01:00:00+0000', tz='UTC')],\n",
       " ['臺北市', '古亭', 11, Timestamp('2022-07-10 01:00:00+0000', tz='UTC')],\n",
       " ['臺北市', '松山', 11, Timestamp('2022-07-10 01:00:00+0000', tz='UTC')],\n",
       " ['臺北市', '大同', 15, Timestamp('2022-07-10 01:00:00+0000', tz='UTC')],\n",
       " ['桃園市', '桃園', 7, Timestamp('2022-07-10 01:00:00+0000', tz='UTC')],\n",
       " ['桃園市', '大園', 5, Timestamp('2022-07-10 01:00:00+0000', tz='UTC')],\n",
       " ['桃園市', '觀音', 3, Timestamp('2022-07-10 01:00:00+0000', tz='UTC')],\n",
       " ['桃園市', '平鎮', 6, Timestamp('2022-07-10 01:00:00+0000', tz='UTC')],\n",
       " ['桃園市', '龍潭', 6, Timestamp('2022-07-10 01:00:00+0000', tz='UTC')],\n",
       " ['新竹縣', '湖口', 5, Timestamp('2022-07-10 01:00:00+0000', tz='UTC')],\n",
       " ['新竹縣', '竹東', 6, Timestamp('2022-07-10 01:00:00+0000', tz='UTC')],\n",
       " ['新竹市', '新竹', 3, Timestamp('2022-07-10 01:00:00+0000', tz='UTC')],\n",
       " ['苗栗縣', '頭份', 2, Timestamp('2022-07-10 01:00:00+0000', tz='UTC')],\n",
       " ['苗栗縣', '苗栗', 4, Timestamp('2022-07-10 01:00:00+0000', tz='UTC')],\n",
       " ['苗栗縣', '三義', 6, Timestamp('2022-07-10 00:00:00+0000', tz='UTC')],\n",
       " ['臺中市', '豐原', 4, Timestamp('2022-07-10 01:00:00+0000', tz='UTC')],\n",
       " ['臺中市', '沙鹿', 3, Timestamp('2022-07-10 01:00:00+0000', tz='UTC')],\n",
       " ['臺中市', '大里', 4, Timestamp('2022-07-10 01:00:00+0000', tz='UTC')],\n",
       " ['臺中市', '忠明', 6, Timestamp('2022-07-10 01:00:00+0000', tz='UTC')],\n",
       " ['臺中市', '西屯', 2, Timestamp('2022-07-10 01:00:00+0000', tz='UTC')],\n",
       " ['彰化縣', '彰化', 0, Timestamp('2022-07-10 01:00:00+0000', tz='UTC')],\n",
       " ['彰化縣', '線西', 9, Timestamp('2022-07-10 01:00:00+0000', tz='UTC')],\n",
       " ['彰化縣', '二林', 1, Timestamp('2022-07-10 01:00:00+0000', tz='UTC')],\n",
       " ['南投縣', '南投', 10, Timestamp('2022-07-10 01:00:00+0000', tz='UTC')],\n",
       " ['雲林縣', '斗六', 9, Timestamp('2022-07-10 01:00:00+0000', tz='UTC')],\n",
       " ['雲林縣', '崙背', 4, Timestamp('2022-07-10 01:00:00+0000', tz='UTC')],\n",
       " ['嘉義縣', '新港', 10, Timestamp('2022-07-10 01:00:00+0000', tz='UTC')],\n",
       " ['嘉義縣', '朴子', 0, Timestamp('2022-07-10 01:00:00+0000', tz='UTC')],\n",
       " ['雲林縣', '臺西', 3, Timestamp('2022-07-10 01:00:00+0000', tz='UTC')],\n",
       " ['嘉義市', '嘉義', 7, Timestamp('2022-07-10 01:00:00+0000', tz='UTC')],\n",
       " ['臺南市', '新營', 11, Timestamp('2022-07-10 01:00:00+0000', tz='UTC')],\n",
       " ['臺南市', '善化', 7, Timestamp('2022-07-10 01:00:00+0000', tz='UTC')],\n",
       " ['臺南市', '安南', 6, Timestamp('2022-07-10 01:00:00+0000', tz='UTC')],\n",
       " ['臺南市', '臺南', 4, Timestamp('2022-07-10 01:00:00+0000', tz='UTC')],\n",
       " ['高雄市', '美濃', 8, Timestamp('2022-07-10 01:00:00+0000', tz='UTC')],\n",
       " ['高雄市', '橋頭', 7, Timestamp('2022-07-10 01:00:00+0000', tz='UTC')],\n",
       " ['高雄市', '仁武', 7, Timestamp('2022-07-10 01:00:00+0000', tz='UTC')],\n",
       " ['高雄市', '鳳山', 8, Timestamp('2022-07-10 01:00:00+0000', tz='UTC')],\n",
       " ['高雄市', '大寮', 7, Timestamp('2022-07-10 01:00:00+0000', tz='UTC')],\n",
       " ['高雄市', '林園', 5, Timestamp('2022-07-10 01:00:00+0000', tz='UTC')],\n",
       " ['高雄市', '楠梓', 3, Timestamp('2022-07-10 01:00:00+0000', tz='UTC')],\n",
       " ['高雄市', '左營', 10, Timestamp('2022-07-10 01:00:00+0000', tz='UTC')],\n",
       " ['高雄市', '前金', 8, Timestamp('2022-07-10 01:00:00+0000', tz='UTC')],\n",
       " ['高雄市', '前鎮', 11, Timestamp('2022-07-10 01:00:00+0000', tz='UTC')],\n",
       " ['高雄市', '小港', 8, Timestamp('2022-07-10 01:00:00+0000', tz='UTC')],\n",
       " ['屏東縣', '屏東', 6, Timestamp('2022-07-10 01:00:00+0000', tz='UTC')],\n",
       " ['屏東縣', '潮州', 4, Timestamp('2022-07-10 01:00:00+0000', tz='UTC')],\n",
       " ['屏東縣', '恆春', 0, Timestamp('2022-07-10 01:00:00+0000', tz='UTC')],\n",
       " ['臺東縣', '臺東', 5, Timestamp('2022-07-10 01:00:00+0000', tz='UTC')],\n",
       " ['花蓮縣', '花蓮', 5, Timestamp('2022-07-10 01:00:00+0000', tz='UTC')],\n",
       " ['臺北市', '陽明', 11, Timestamp('2022-07-10 01:00:00+0000', tz='UTC')],\n",
       " ['宜蘭縣', '宜蘭', 13, Timestamp('2022-07-10 01:00:00+0000', tz='UTC')],\n",
       " ['宜蘭縣', '冬山', 9, Timestamp('2022-07-10 01:00:00+0000', tz='UTC')],\n",
       " ['新北市', '三重', 15, Timestamp('2022-07-10 01:00:00+0000', tz='UTC')],\n",
       " ['桃園市', '中壢', 7, Timestamp('2022-07-10 01:00:00+0000', tz='UTC')],\n",
       " ['南投縣', '竹山', 4, Timestamp('2022-07-10 01:00:00+0000', tz='UTC')],\n",
       " ['新北市', '永和', 9, Timestamp('2022-07-10 01:00:00+0000', tz='UTC')],\n",
       " ['高雄市', '復興', 10, Timestamp('2022-07-10 01:00:00+0000', tz='UTC')],\n",
       " ['南投縣', '埔里', 2, Timestamp('2022-07-10 01:00:00+0000', tz='UTC')],\n",
       " ['新北市', '富貴角', 6, Timestamp('2022-07-10 01:00:00+0000', tz='UTC')],\n",
       " ['臺東縣', '關山', 0, Timestamp('2022-07-10 01:00:00+0000', tz='UTC')],\n",
       " ['金門縣', '金門', 9, Timestamp('2022-07-10 01:00:00+0000', tz='UTC')],\n",
       " ['連江縣', '馬祖', 8, Timestamp('2022-07-10 01:00:00+0000', tz='UTC')],\n",
       " ['澎湖縣', '馬公', 2, Timestamp('2022-07-10 01:00:00+0000', tz='UTC')],\n",
       " ['雲林縣', '麥寮', 0, Timestamp('2022-07-10 01:00:00+0000', tz='UTC')]]"
      ]
     },
     "execution_count": 7,
     "metadata": {},
     "output_type": "execute_result"
    }
   ],
   "source": [
    "values=[]\n",
    "for data in datas:\n",
    "    city,stationName=data['Thing']['properties']['city'],data['Thing']['properties']['stationName']\n",
    "    result,resultTime=data['Observations'][0]['result'],data['Observations'][0]['resultTime']\n",
    "    resultTime=pd.to_datetime(resultTime)\n",
    "\n",
    "    print(city,stationName,result,resultTime)\n",
    "    values.append([city,stationName,result,resultTime])\n",
    "\n",
    "values "
   ]
  },
  {
   "cell_type": "code",
   "execution_count": 8,
   "metadata": {},
   "outputs": [
    {
     "data": {
      "text/html": [
       "<div>\n",
       "<style scoped>\n",
       "    .dataframe tbody tr th:only-of-type {\n",
       "        vertical-align: middle;\n",
       "    }\n",
       "\n",
       "    .dataframe tbody tr th {\n",
       "        vertical-align: top;\n",
       "    }\n",
       "\n",
       "    .dataframe thead th {\n",
       "        text-align: right;\n",
       "    }\n",
       "</style>\n",
       "<table border=\"1\" class=\"dataframe\">\n",
       "  <thead>\n",
       "    <tr style=\"text-align: right;\">\n",
       "      <th></th>\n",
       "      <th>city</th>\n",
       "      <th>stationName</th>\n",
       "      <th>result</th>\n",
       "      <th>resultTime</th>\n",
       "    </tr>\n",
       "  </thead>\n",
       "  <tbody>\n",
       "    <tr>\n",
       "      <th>0</th>\n",
       "      <td>基隆市</td>\n",
       "      <td>基隆</td>\n",
       "      <td>14</td>\n",
       "      <td>2022-07-10 01:00:00+00:00</td>\n",
       "    </tr>\n",
       "    <tr>\n",
       "      <th>1</th>\n",
       "      <td>新北市</td>\n",
       "      <td>汐止</td>\n",
       "      <td>12</td>\n",
       "      <td>2022-07-10 01:00:00+00:00</td>\n",
       "    </tr>\n",
       "    <tr>\n",
       "      <th>2</th>\n",
       "      <td>新北市</td>\n",
       "      <td>萬里</td>\n",
       "      <td>11</td>\n",
       "      <td>2022-07-10 01:00:00+00:00</td>\n",
       "    </tr>\n",
       "    <tr>\n",
       "      <th>3</th>\n",
       "      <td>新北市</td>\n",
       "      <td>新店</td>\n",
       "      <td>10</td>\n",
       "      <td>2022-07-10 01:00:00+00:00</td>\n",
       "    </tr>\n",
       "    <tr>\n",
       "      <th>4</th>\n",
       "      <td>新北市</td>\n",
       "      <td>土城</td>\n",
       "      <td>7</td>\n",
       "      <td>2022-07-10 01:00:00+00:00</td>\n",
       "    </tr>\n",
       "    <tr>\n",
       "      <th>...</th>\n",
       "      <td>...</td>\n",
       "      <td>...</td>\n",
       "      <td>...</td>\n",
       "      <td>...</td>\n",
       "    </tr>\n",
       "    <tr>\n",
       "      <th>72</th>\n",
       "      <td>臺東縣</td>\n",
       "      <td>關山</td>\n",
       "      <td>0</td>\n",
       "      <td>2022-07-10 01:00:00+00:00</td>\n",
       "    </tr>\n",
       "    <tr>\n",
       "      <th>73</th>\n",
       "      <td>金門縣</td>\n",
       "      <td>金門</td>\n",
       "      <td>9</td>\n",
       "      <td>2022-07-10 01:00:00+00:00</td>\n",
       "    </tr>\n",
       "    <tr>\n",
       "      <th>74</th>\n",
       "      <td>連江縣</td>\n",
       "      <td>馬祖</td>\n",
       "      <td>8</td>\n",
       "      <td>2022-07-10 01:00:00+00:00</td>\n",
       "    </tr>\n",
       "    <tr>\n",
       "      <th>75</th>\n",
       "      <td>澎湖縣</td>\n",
       "      <td>馬公</td>\n",
       "      <td>2</td>\n",
       "      <td>2022-07-10 01:00:00+00:00</td>\n",
       "    </tr>\n",
       "    <tr>\n",
       "      <th>76</th>\n",
       "      <td>雲林縣</td>\n",
       "      <td>麥寮</td>\n",
       "      <td>0</td>\n",
       "      <td>2022-07-10 01:00:00+00:00</td>\n",
       "    </tr>\n",
       "  </tbody>\n",
       "</table>\n",
       "<p>77 rows × 4 columns</p>\n",
       "</div>"
      ],
      "text/plain": [
       "   city stationName  result                resultTime\n",
       "0   基隆市          基隆      14 2022-07-10 01:00:00+00:00\n",
       "1   新北市          汐止      12 2022-07-10 01:00:00+00:00\n",
       "2   新北市          萬里      11 2022-07-10 01:00:00+00:00\n",
       "3   新北市          新店      10 2022-07-10 01:00:00+00:00\n",
       "4   新北市          土城       7 2022-07-10 01:00:00+00:00\n",
       "..  ...         ...     ...                       ...\n",
       "72  臺東縣          關山       0 2022-07-10 01:00:00+00:00\n",
       "73  金門縣          金門       9 2022-07-10 01:00:00+00:00\n",
       "74  連江縣          馬祖       8 2022-07-10 01:00:00+00:00\n",
       "75  澎湖縣          馬公       2 2022-07-10 01:00:00+00:00\n",
       "76  雲林縣          麥寮       0 2022-07-10 01:00:00+00:00\n",
       "\n",
       "[77 rows x 4 columns]"
      ]
     },
     "execution_count": 8,
     "metadata": {},
     "output_type": "execute_result"
    }
   ],
   "source": [
    "df=pd.DataFrame(values,columns=['city','stationName','result','resultTime'])\n",
    "df"
   ]
  },
  {
   "cell_type": "code",
   "execution_count": 9,
   "metadata": {},
   "outputs": [
    {
     "data": {
      "text/html": [
       "<div>\n",
       "<style scoped>\n",
       "    .dataframe tbody tr th:only-of-type {\n",
       "        vertical-align: middle;\n",
       "    }\n",
       "\n",
       "    .dataframe tbody tr th {\n",
       "        vertical-align: top;\n",
       "    }\n",
       "\n",
       "    .dataframe thead th {\n",
       "        text-align: right;\n",
       "    }\n",
       "</style>\n",
       "<table border=\"1\" class=\"dataframe\">\n",
       "  <thead>\n",
       "    <tr style=\"text-align: right;\">\n",
       "      <th></th>\n",
       "      <th>city</th>\n",
       "      <th>stationName</th>\n",
       "      <th>result</th>\n",
       "      <th>resultTime</th>\n",
       "    </tr>\n",
       "  </thead>\n",
       "  <tbody>\n",
       "    <tr>\n",
       "      <th>10</th>\n",
       "      <td>臺北市</td>\n",
       "      <td>士林</td>\n",
       "      <td>17</td>\n",
       "      <td>2022-07-10 01:00:00+00:00</td>\n",
       "    </tr>\n",
       "    <tr>\n",
       "      <th>15</th>\n",
       "      <td>臺北市</td>\n",
       "      <td>大同</td>\n",
       "      <td>15</td>\n",
       "      <td>2022-07-10 01:00:00+00:00</td>\n",
       "    </tr>\n",
       "    <tr>\n",
       "      <th>65</th>\n",
       "      <td>新北市</td>\n",
       "      <td>三重</td>\n",
       "      <td>15</td>\n",
       "      <td>2022-07-10 01:00:00+00:00</td>\n",
       "    </tr>\n",
       "    <tr>\n",
       "      <th>0</th>\n",
       "      <td>基隆市</td>\n",
       "      <td>基隆</td>\n",
       "      <td>14</td>\n",
       "      <td>2022-07-10 01:00:00+00:00</td>\n",
       "    </tr>\n",
       "    <tr>\n",
       "      <th>63</th>\n",
       "      <td>宜蘭縣</td>\n",
       "      <td>宜蘭</td>\n",
       "      <td>13</td>\n",
       "      <td>2022-07-10 01:00:00+00:00</td>\n",
       "    </tr>\n",
       "    <tr>\n",
       "      <th>...</th>\n",
       "      <td>...</td>\n",
       "      <td>...</td>\n",
       "      <td>...</td>\n",
       "      <td>...</td>\n",
       "    </tr>\n",
       "    <tr>\n",
       "      <th>39</th>\n",
       "      <td>嘉義縣</td>\n",
       "      <td>朴子</td>\n",
       "      <td>0</td>\n",
       "      <td>2022-07-10 01:00:00+00:00</td>\n",
       "    </tr>\n",
       "    <tr>\n",
       "      <th>59</th>\n",
       "      <td>屏東縣</td>\n",
       "      <td>恆春</td>\n",
       "      <td>0</td>\n",
       "      <td>2022-07-10 01:00:00+00:00</td>\n",
       "    </tr>\n",
       "    <tr>\n",
       "      <th>72</th>\n",
       "      <td>臺東縣</td>\n",
       "      <td>關山</td>\n",
       "      <td>0</td>\n",
       "      <td>2022-07-10 01:00:00+00:00</td>\n",
       "    </tr>\n",
       "    <tr>\n",
       "      <th>32</th>\n",
       "      <td>彰化縣</td>\n",
       "      <td>彰化</td>\n",
       "      <td>0</td>\n",
       "      <td>2022-07-10 01:00:00+00:00</td>\n",
       "    </tr>\n",
       "    <tr>\n",
       "      <th>76</th>\n",
       "      <td>雲林縣</td>\n",
       "      <td>麥寮</td>\n",
       "      <td>0</td>\n",
       "      <td>2022-07-10 01:00:00+00:00</td>\n",
       "    </tr>\n",
       "  </tbody>\n",
       "</table>\n",
       "<p>77 rows × 4 columns</p>\n",
       "</div>"
      ],
      "text/plain": [
       "   city stationName  result                resultTime\n",
       "10  臺北市          士林      17 2022-07-10 01:00:00+00:00\n",
       "15  臺北市          大同      15 2022-07-10 01:00:00+00:00\n",
       "65  新北市          三重      15 2022-07-10 01:00:00+00:00\n",
       "0   基隆市          基隆      14 2022-07-10 01:00:00+00:00\n",
       "63  宜蘭縣          宜蘭      13 2022-07-10 01:00:00+00:00\n",
       "..  ...         ...     ...                       ...\n",
       "39  嘉義縣          朴子       0 2022-07-10 01:00:00+00:00\n",
       "59  屏東縣          恆春       0 2022-07-10 01:00:00+00:00\n",
       "72  臺東縣          關山       0 2022-07-10 01:00:00+00:00\n",
       "32  彰化縣          彰化       0 2022-07-10 01:00:00+00:00\n",
       "76  雲林縣          麥寮       0 2022-07-10 01:00:00+00:00\n",
       "\n",
       "[77 rows x 4 columns]"
      ]
     },
     "execution_count": 9,
     "metadata": {},
     "output_type": "execute_result"
    }
   ],
   "source": [
    "df.sort_values(by='result',ascending=False)"
   ]
  },
  {
   "cell_type": "code",
   "execution_count": 10,
   "metadata": {},
   "outputs": [
    {
     "data": {
      "text/plain": [
       "0    2022-07-10 01:00:00+00:00\n",
       "1    2022-07-10 01:00:00+00:00\n",
       "2    2022-07-10 01:00:00+00:00\n",
       "3    2022-07-10 01:00:00+00:00\n",
       "4    2022-07-10 01:00:00+00:00\n",
       "                ...           \n",
       "72   2022-07-10 01:00:00+00:00\n",
       "73   2022-07-10 01:00:00+00:00\n",
       "74   2022-07-10 01:00:00+00:00\n",
       "75   2022-07-10 01:00:00+00:00\n",
       "76   2022-07-10 01:00:00+00:00\n",
       "Name: resultTime, Length: 77, dtype: datetime64[ns, UTC]"
      ]
     },
     "execution_count": 10,
     "metadata": {},
     "output_type": "execute_result"
    }
   ],
   "source": [
    "df['resultTime'].apply(pd.to_datetime)"
   ]
  },
  {
   "cell_type": "markdown",
   "metadata": {},
   "source": [
    "### 輸出六都平均值"
   ]
  },
  {
   "cell_type": "code",
   "execution_count": 13,
   "metadata": {},
   "outputs": [
    {
     "data": {
      "text/html": [
       "<div>\n",
       "<style scoped>\n",
       "    .dataframe tbody tr th:only-of-type {\n",
       "        vertical-align: middle;\n",
       "    }\n",
       "\n",
       "    .dataframe tbody tr th {\n",
       "        vertical-align: top;\n",
       "    }\n",
       "\n",
       "    .dataframe thead th {\n",
       "        text-align: right;\n",
       "    }\n",
       "</style>\n",
       "<table border=\"1\" class=\"dataframe\">\n",
       "  <thead>\n",
       "    <tr style=\"text-align: right;\">\n",
       "      <th></th>\n",
       "      <th>city</th>\n",
       "      <th>stationName</th>\n",
       "      <th>result</th>\n",
       "      <th>resultTime</th>\n",
       "    </tr>\n",
       "  </thead>\n",
       "  <tbody>\n",
       "    <tr>\n",
       "      <th>0</th>\n",
       "      <td>基隆市</td>\n",
       "      <td>基隆</td>\n",
       "      <td>14</td>\n",
       "      <td>2022-07-10 01:00:00+00:00</td>\n",
       "    </tr>\n",
       "    <tr>\n",
       "      <th>1</th>\n",
       "      <td>新北市</td>\n",
       "      <td>汐止</td>\n",
       "      <td>12</td>\n",
       "      <td>2022-07-10 01:00:00+00:00</td>\n",
       "    </tr>\n",
       "    <tr>\n",
       "      <th>2</th>\n",
       "      <td>新北市</td>\n",
       "      <td>萬里</td>\n",
       "      <td>11</td>\n",
       "      <td>2022-07-10 01:00:00+00:00</td>\n",
       "    </tr>\n",
       "    <tr>\n",
       "      <th>3</th>\n",
       "      <td>新北市</td>\n",
       "      <td>新店</td>\n",
       "      <td>10</td>\n",
       "      <td>2022-07-10 01:00:00+00:00</td>\n",
       "    </tr>\n",
       "    <tr>\n",
       "      <th>4</th>\n",
       "      <td>新北市</td>\n",
       "      <td>土城</td>\n",
       "      <td>7</td>\n",
       "      <td>2022-07-10 01:00:00+00:00</td>\n",
       "    </tr>\n",
       "    <tr>\n",
       "      <th>...</th>\n",
       "      <td>...</td>\n",
       "      <td>...</td>\n",
       "      <td>...</td>\n",
       "      <td>...</td>\n",
       "    </tr>\n",
       "    <tr>\n",
       "      <th>72</th>\n",
       "      <td>臺東縣</td>\n",
       "      <td>關山</td>\n",
       "      <td>0</td>\n",
       "      <td>2022-07-10 01:00:00+00:00</td>\n",
       "    </tr>\n",
       "    <tr>\n",
       "      <th>73</th>\n",
       "      <td>金門縣</td>\n",
       "      <td>金門</td>\n",
       "      <td>9</td>\n",
       "      <td>2022-07-10 01:00:00+00:00</td>\n",
       "    </tr>\n",
       "    <tr>\n",
       "      <th>74</th>\n",
       "      <td>連江縣</td>\n",
       "      <td>馬祖</td>\n",
       "      <td>8</td>\n",
       "      <td>2022-07-10 01:00:00+00:00</td>\n",
       "    </tr>\n",
       "    <tr>\n",
       "      <th>75</th>\n",
       "      <td>澎湖縣</td>\n",
       "      <td>馬公</td>\n",
       "      <td>2</td>\n",
       "      <td>2022-07-10 01:00:00+00:00</td>\n",
       "    </tr>\n",
       "    <tr>\n",
       "      <th>76</th>\n",
       "      <td>雲林縣</td>\n",
       "      <td>麥寮</td>\n",
       "      <td>0</td>\n",
       "      <td>2022-07-10 01:00:00+00:00</td>\n",
       "    </tr>\n",
       "  </tbody>\n",
       "</table>\n",
       "<p>77 rows × 4 columns</p>\n",
       "</div>"
      ],
      "text/plain": [
       "   city stationName  result                resultTime\n",
       "0   基隆市          基隆      14 2022-07-10 01:00:00+00:00\n",
       "1   新北市          汐止      12 2022-07-10 01:00:00+00:00\n",
       "2   新北市          萬里      11 2022-07-10 01:00:00+00:00\n",
       "3   新北市          新店      10 2022-07-10 01:00:00+00:00\n",
       "4   新北市          土城       7 2022-07-10 01:00:00+00:00\n",
       "..  ...         ...     ...                       ...\n",
       "72  臺東縣          關山       0 2022-07-10 01:00:00+00:00\n",
       "73  金門縣          金門       9 2022-07-10 01:00:00+00:00\n",
       "74  連江縣          馬祖       8 2022-07-10 01:00:00+00:00\n",
       "75  澎湖縣          馬公       2 2022-07-10 01:00:00+00:00\n",
       "76  雲林縣          麥寮       0 2022-07-10 01:00:00+00:00\n",
       "\n",
       "[77 rows x 4 columns]"
      ]
     },
     "execution_count": 13,
     "metadata": {},
     "output_type": "execute_result"
    }
   ],
   "source": [
    "df"
   ]
  },
  {
   "cell_type": "code",
   "execution_count": 15,
   "metadata": {},
   "outputs": [
    {
     "data": {
      "text/plain": [
       "{'南投縣',\n",
       " '嘉義市',\n",
       " '嘉義縣',\n",
       " '基隆市',\n",
       " '宜蘭縣',\n",
       " '屏東縣',\n",
       " '彰化縣',\n",
       " '新北市',\n",
       " '新竹市',\n",
       " '新竹縣',\n",
       " '桃園市',\n",
       " '澎湖縣',\n",
       " '臺中市',\n",
       " '臺北市',\n",
       " '臺南市',\n",
       " '臺東縣',\n",
       " '花蓮縣',\n",
       " '苗栗縣',\n",
       " '連江縣',\n",
       " '金門縣',\n",
       " '雲林縣',\n",
       " '高雄市'}"
      ]
     },
     "execution_count": 15,
     "metadata": {},
     "output_type": "execute_result"
    }
   ],
   "source": [
    "set(df['city'])"
   ]
  },
  {
   "cell_type": "code",
   "execution_count": 16,
   "metadata": {},
   "outputs": [
    {
     "data": {
      "text/plain": [
       "['臺北市', '新北市', '桃園市', '臺中市', '臺南市', '高雄市']"
      ]
     },
     "execution_count": 16,
     "metadata": {},
     "output_type": "execute_result"
    }
   ],
   "source": [
    "six_citys=['臺北市','新北市','桃園市','臺中市','臺南市','高雄市']\n",
    "six_citys"
   ]
  },
  {
   "cell_type": "code",
   "execution_count": 21,
   "metadata": {},
   "outputs": [
    {
     "data": {
      "text/plain": [
       "7.67"
      ]
     },
     "execution_count": 21,
     "metadata": {},
     "output_type": "execute_result"
    }
   ],
   "source": [
    "round(df.groupby('city').get_group(six_citys[-1])['result'].mean(),2)"
   ]
  },
  {
   "cell_type": "code",
   "execution_count": 23,
   "metadata": {},
   "outputs": [
    {
     "name": "stdout",
     "output_type": "stream",
     "text": [
      "臺北市 12.14\n",
      "新北市 10.25\n",
      "桃園市 5.67\n",
      "臺中市 3.8\n",
      "臺南市 7.0\n",
      "高雄市 7.67\n"
     ]
    }
   ],
   "source": [
    "for city in six_citys:\n",
    "    print(city,round(df.groupby('city').get_group(city)['result'].mean(),2))"
   ]
  },
  {
   "cell_type": "markdown",
   "metadata": {},
   "source": [
    "### 全台不重複縣市"
   ]
  },
  {
   "cell_type": "code",
   "execution_count": 27,
   "metadata": {},
   "outputs": [
    {
     "data": {
      "text/plain": [
       "['彰化縣',\n",
       " '臺北市',\n",
       " '嘉義縣',\n",
       " '澎湖縣',\n",
       " '高雄市',\n",
       " '新北市',\n",
       " '基隆市',\n",
       " '南投縣',\n",
       " '臺東縣',\n",
       " '臺南市',\n",
       " '新竹市',\n",
       " '連江縣',\n",
       " '雲林縣',\n",
       " '宜蘭縣',\n",
       " '屏東縣',\n",
       " '嘉義市',\n",
       " '苗栗縣',\n",
       " '桃園市',\n",
       " '臺中市',\n",
       " '花蓮縣',\n",
       " '金門縣',\n",
       " '新竹縣']"
      ]
     },
     "execution_count": 27,
     "metadata": {},
     "output_type": "execute_result"
    }
   ],
   "source": [
    "list(set(df['city']))"
   ]
  },
  {
   "cell_type": "markdown",
   "metadata": {},
   "source": [
    "### 取得單一縣市所有站點PM2.5值"
   ]
  },
  {
   "cell_type": "code",
   "execution_count": 35,
   "metadata": {},
   "outputs": [
    {
     "data": {
      "text/plain": [
       "[['汐止', 12],\n",
       " ['萬里', 11],\n",
       " ['新店', 10],\n",
       " ['土城', 7],\n",
       " ['板橋', 11],\n",
       " ['新莊', 9],\n",
       " ['菜寮', 11],\n",
       " ['林口', 12],\n",
       " ['淡水', 10],\n",
       " ['三重', 15],\n",
       " ['永和', 9],\n",
       " ['富貴角', 6]]"
      ]
     },
     "execution_count": 35,
     "metadata": {},
     "output_type": "execute_result"
    }
   ],
   "source": [
    "datas=df.groupby('city').get_group('新北市')[['stationName','result']].values.tolist()\n",
    "datas"
   ]
  },
  {
   "cell_type": "code",
   "execution_count": 39,
   "metadata": {},
   "outputs": [
    {
     "data": {
      "text/plain": [
       "(('汐止', '萬里', '新店', '土城', '板橋', '新莊', '菜寮', '林口', '淡水', '三重', '永和', '富貴角'),\n",
       " (12, 11, 10, 7, 11, 9, 11, 12, 10, 15, 9, 6))"
      ]
     },
     "execution_count": 39,
     "metadata": {},
     "output_type": "execute_result"
    }
   ],
   "source": [
    "stationName,result=list(zip(*datas))\n",
    "stationName,result"
   ]
  },
  {
   "cell_type": "code",
   "execution_count": 40,
   "metadata": {},
   "outputs": [
    {
     "data": {
      "text/plain": [
       "['汐止', '萬里', '新店', '土城', '板橋', '新莊', '菜寮', '林口', '淡水', '三重', '永和', '富貴角']"
      ]
     },
     "execution_count": 40,
     "metadata": {},
     "output_type": "execute_result"
    }
   ],
   "source": [
    "stationName=[data[0] for data in datas]\n",
    "stationName"
   ]
  },
  {
   "cell_type": "code",
   "execution_count": 41,
   "metadata": {},
   "outputs": [
    {
     "data": {
      "text/plain": [
       "[12, 11, 10, 7, 11, 9, 11, 12, 10, 15, 9, 6]"
      ]
     },
     "execution_count": 41,
     "metadata": {},
     "output_type": "execute_result"
    }
   ],
   "source": [
    "result=[data[-1] for data in datas]\n",
    "result"
   ]
  },
  {
   "cell_type": "markdown",
   "metadata": {},
   "source": []
  }
 ],
 "metadata": {
  "kernelspec": {
   "display_name": "Python 3.9.7 ('base')",
   "language": "python",
   "name": "python3"
  },
  "language_info": {
   "codemirror_mode": {
    "name": "ipython",
    "version": 3
   },
   "file_extension": ".py",
   "mimetype": "text/x-python",
   "name": "python",
   "nbconvert_exporter": "python",
   "pygments_lexer": "ipython3",
   "version": "3.9.7"
  },
  "orig_nbformat": 4,
  "vscode": {
   "interpreter": {
    "hash": "ad2bdc8ecc057115af97d19610ffacc2b4e99fae6737bb82f5d7fb13d2f2c186"
   }
  }
 },
 "nbformat": 4,
 "nbformat_minor": 2
}
